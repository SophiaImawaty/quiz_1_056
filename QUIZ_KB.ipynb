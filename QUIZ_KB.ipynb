{
  "nbformat": 4,
  "nbformat_minor": 0,
  "metadata": {
    "colab": {
      "provenance": []
    },
    "kernelspec": {
      "name": "python3",
      "display_name": "Python 3"
    },
    "language_info": {
      "name": "python"
    }
  },
  "cells": [
    {
      "cell_type": "code",
      "execution_count": 3,
      "metadata": {
        "colab": {
          "base_uri": "https://localhost:8080/"
        },
        "id": "dbwsCRjg99_b",
        "outputId": "47410500-3aa9-4cec-e7a9-336cefe23c93"
      },
      "outputs": [
        {
          "output_type": "stream",
          "name": "stdout",
          "text": [
            "Nilai minimum: 12\n",
            "Nilai maksimum: 100\n",
            "Matriks transpose:\n",
            "[34, 72, 61]\n",
            "[100, 24, 20]\n",
            "[12, 55, 19]\n",
            "Hasil perkalian matriks A dengan transpose:\n",
            "[11300, 5508, 4302]\n",
            "[5508, 8785, 5917]\n",
            "[4302, 5917, 4482]\n",
            "Hasil penjumlahan matriks A dengan transpose:\n",
            "[68, 172, 73]\n",
            "[172, 48, 75]\n",
            "[73, 75, 38]\n"
          ]
        }
      ],
      "source": [
        "class OperasiMatriks:\n",
        "    def __init__(self, matriks):\n",
        "        self.matriks = matriks\n",
        "\n",
        "    def cari_min_max(self):\n",
        "        matriks_datar = [elemen for baris in self.matriks for elemen in baris]\n",
        "        nilai_min = min(matriks_datar)\n",
        "        nilai_max = max(matriks_datar)\n",
        "        return nilai_min, nilai_max\n",
        "\n",
        "    def transpose_matriks(self):\n",
        "        matriks_transpose = [[self.matriks[j][i] for j in range(len(self.matriks))] for i in range(len(self.matriks[0]))]\n",
        "        return matriks_transpose\n",
        "\n",
        "    def perkalian_matriks(self, matriks_b):\n",
        "        if len(self.matriks[0]) != len(matriks_b):\n",
        "            raise ValueError(\"Jumlah kolom pada Matriks A harus sama dengan jumlah baris pada Matriks B.\")\n",
        "\n",
        "        hasil = [[0 for _ in range(len(matriks_b[0]))] for _ in range(len(self.matriks))]\n",
        "        for i in range(len(self.matriks)):\n",
        "            for j in range(len(matriks_b[0])):\n",
        "                for k in range(len(matriks_b)):\n",
        "                    hasil[i][j] += self.matriks[i][k] * matriks_b[k][j]\n",
        "\n",
        "        return hasil\n",
        "\n",
        "    def penjumlahan_matriks(self, matriks_b):\n",
        "        if len(self.matriks) != len(matriks_b) or len(self.matriks[0]) != len(matriks_b[0]):\n",
        "            raise ValueError(\"Kedua matriks harus memiliki dimensi yang sama.\")\n",
        "\n",
        "        hasil = [[self.matriks[i][j] + matriks_b[i][j] for j in range(len(self.matriks[0]))] for i in range(len(self.matriks))]\n",
        "        return hasil\n",
        "\n",
        "\n",
        "if __name__ == \"__main__\":\n",
        "    matriks_a = [\n",
        "        [34, 100, 12],\n",
        "        [72, 24, 55],\n",
        "        [61, 20, 19]\n",
        "    ]\n",
        "\n",
        "    operasi_matriks = OperasiMatriks(matriks_a)\n",
        "    nilai_min, nilai_max = operasi_matriks.cari_min_max()\n",
        "    print(\"Nilai minimum:\", nilai_min)\n",
        "    print(\"Nilai maksimum:\", nilai_max)\n",
        "\n",
        "    matriks_transpose = operasi_matriks.transpose_matriks()\n",
        "    print(\"Matriks transpose:\")\n",
        "    for baris in matriks_transpose:\n",
        "        print(baris)\n",
        "\n",
        "    hasil_perkalian = operasi_matriks.perkalian_matriks(matriks_transpose)\n",
        "    print(\"Hasil perkalian matriks A dengan transpose:\")\n",
        "    for baris in hasil_perkalian:\n",
        "        print(baris)\n",
        "\n",
        "    hasil_penjumlahan = operasi_matriks.penjumlahan_matriks(matriks_transpose)\n",
        "    print(\"Hasil penjumlahan matriks A dengan transpose:\")\n",
        "    for baris in hasil_penjumlahan:\n",
        "        print(baris)"
      ]
    }
  ]
}